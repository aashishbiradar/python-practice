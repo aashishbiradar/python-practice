{
 "nbformat": 4,
 "nbformat_minor": 2,
 "metadata": {
  "language_info": {
   "name": "python",
   "codemirror_mode": {
    "name": "ipython",
    "version": 3
   },
   "version": "3.7.4"
  },
  "orig_nbformat": 2,
  "file_extension": ".py",
  "mimetype": "text/x-python",
  "name": "python",
  "npconvert_exporter": "python",
  "pygments_lexer": "ipython3",
  "version": 3
 },
 "cells": [
  {
   "cell_type": "code",
   "execution_count": 1,
   "metadata": {},
   "outputs": [
    {
     "name": "stdout",
     "output_type": "stream",
     "text": "[1 2 4 8 9]\n"
    }
   ],
   "source": [
    "import numpy as np\n",
    "a = np.array([1,2,4,8,9])\n",
    "print(a)"
   ]
  },
  {
   "cell_type": "code",
   "execution_count": 2,
   "metadata": {},
   "outputs": [
    {
     "name": "stdout",
     "output_type": "stream",
     "text": "[100 102 104 106 108 110 112 114 116 118 120 122 124 126 128 130 132 134\n 136 138 140 142 144 146 148 150 152 154 156 158 160 162 164 166 168 170\n 172 174 176 178 180 182 184 186 188 190 192 194 196 198]\n"
    }
   ],
   "source": [
    "b = np.arange(100,200,2)\n",
    "print(b)"
   ]
  },
  {
   "cell_type": "code",
   "execution_count": 6,
   "metadata": {},
   "outputs": [
    {
     "name": "stdout",
     "output_type": "stream",
     "text": "3\n(2, 2, 2)\n"
    }
   ],
   "source": [
    "c = np.array([[[1,9],[10,3]],[[4,4],[8,7]]])\n",
    "print(c.ndim)\n",
    "print(c.shape)"
   ]
  },
  {
   "cell_type": "code",
   "execution_count": null,
   "metadata": {},
   "outputs": [],
   "source": []
  }
 ]
}