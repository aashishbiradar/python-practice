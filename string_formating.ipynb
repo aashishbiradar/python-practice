{
 "nbformat": 4,
 "nbformat_minor": 2,
 "metadata": {
  "language_info": {
   "name": "python",
   "codemirror_mode": {
    "name": "ipython",
    "version": 3
   },
   "version": "3.7.4"
  },
  "orig_nbformat": 2,
  "file_extension": ".py",
  "mimetype": "text/x-python",
  "name": "python",
  "npconvert_exporter": "python",
  "pygments_lexer": "ipython3",
  "version": 3
 },
 "cells": [
  {
   "cell_type": "code",
   "execution_count": 1,
   "metadata": {},
   "outputs": [
    {
     "name": "stdout",
     "output_type": "stream",
     "text": "This is a string\n"
    }
   ],
   "source": [
    "#string formating\n",
    "print(\"This is a {}\".format(\"string\"))"
   ]
  },
  {
   "cell_type": "code",
   "execution_count": 2,
   "metadata": {},
   "outputs": [
    {
     "name": "stdout",
     "output_type": "stream",
     "text": "This is a jupyter notebook!\n"
    }
   ],
   "source": [
    "print(\"This {} {} {} {}!\".format(\"is\", \"a\", \"jupyter\", \"notebook\"))"
   ]
  },
  {
   "cell_type": "code",
   "execution_count": 3,
   "metadata": {},
   "outputs": [
    {
     "name": "stdout",
     "output_type": "stream",
     "text": "This is a jupyter notebook!\n"
    }
   ],
   "source": [
    "print(\"This {0} {1} {2} {3}!\".format(\"is\", \"a\", \"jupyter\", \"notebook\"))"
   ]
  },
  {
   "cell_type": "code",
   "execution_count": 4,
   "metadata": {},
   "outputs": [
    {
     "name": "stdout",
     "output_type": "stream",
     "text": "This is is is is!\n"
    }
   ],
   "source": [
    "print(\"This {0} {0} {0} {0}!\".format(\"is\", \"a\", \"jupyter\", \"notebook\"))"
   ]
  },
  {
   "cell_type": "code",
   "execution_count": 6,
   "metadata": {},
   "outputs": [
    {
     "name": "stdout",
     "output_type": "stream",
     "text": "This notebook is a jupyter!\n"
    }
   ],
   "source": [
    "print(\"This {3} {0} {1} {2}!\".format(\"is\", \"a\", \"jupyter\", \"notebook\"))"
   ]
  },
  {
   "cell_type": "code",
   "execution_count": 7,
   "metadata": {},
   "outputs": [
    {
     "name": "stdout",
     "output_type": "stream",
     "text": "This is a jupyter notebook!\n"
    }
   ],
   "source": [
    "print(\"This {i} {a} {j} {n}!\".format(i=\"is\", a =\"a\", j= \"jupyter\", n = \"notebook\"))"
   ]
  },
  {
   "cell_type": "code",
   "execution_count": 8,
   "metadata": {},
   "outputs": [
    {
     "name": "stdout",
     "output_type": "stream",
     "text": "This is is is is!\n"
    }
   ],
   "source": [
    "print(\"This {i} {i} {i} {i}!\".format(i=\"is\", a =\"a\", j= \"jupyter\", n = \"notebook\"))"
   ]
  },
  {
   "cell_type": "code",
   "execution_count": 10,
   "metadata": {},
   "outputs": [
    {
     "name": "stdout",
     "output_type": "stream",
     "text": "The value of x is 20\n"
    }
   ],
   "source": [
    "x = 20\n",
    "print(\"The value of x is {}\".format(x))"
   ]
  },
  {
   "cell_type": "code",
   "execution_count": 11,
   "metadata": {},
   "outputs": [
    {
     "name": "stdout",
     "output_type": "stream",
     "text": "printing float 1.23\n"
    }
   ],
   "source": [
    "#float formating {value:width.precision}\n",
    "floating = 1.2345789\n",
    "print(\"printing float {f:1.3}\".format(f = floating))"
   ]
  },
  {
   "cell_type": "code",
   "execution_count": 13,
   "metadata": {},
   "outputs": [
    {
     "name": "stdout",
     "output_type": "stream",
     "text": "printing float 1.235\n"
    }
   ],
   "source": [
    "print(\"printing float {:1.4}\".format(floating))"
   ]
  },
  {
   "cell_type": "code",
   "execution_count": 14,
   "metadata": {},
   "outputs": [
    {
     "name": "stdout",
     "output_type": "stream",
     "text": "printing float       1.23\n"
    }
   ],
   "source": [
    "print(\"printing float {f:10.3}\".format(f = floating))"
   ]
  },
  {
   "cell_type": "code",
   "execution_count": 15,
   "metadata": {},
   "outputs": [
    {
     "name": "stdout",
     "output_type": "stream",
     "text": "This is some string and 10 is a integer\n"
    }
   ],
   "source": [
    "#formating with place holders\n",
    "print(\"This is some %s and %i is a integer\"%('string',10))"
   ]
  },
  {
   "cell_type": "code",
   "execution_count": 16,
   "metadata": {},
   "outputs": [
    {
     "name": "stdout",
     "output_type": "stream",
     "text": "Ram is 10 years old.\n"
    }
   ],
   "source": [
    "#f-stings in python 3.6\n",
    "name = \"Ram\"\n",
    "age = 10\n",
    "print(f\"{name} is {age} years old.\")"
   ]
  }
 ]
}